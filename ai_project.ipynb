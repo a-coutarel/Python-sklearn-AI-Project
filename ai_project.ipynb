{
  "cells": [
    {
      "cell_type": "markdown",
      "source": [
        "#*AUTHORS : COUTAREL Allan, DEVOUCOUX Maxime*"
      ],
      "metadata": {
        "id": "XOJjzTzRoCrH"
      }
    },
    {
      "cell_type": "markdown",
      "source": [
        "## IMPORT OF LIBRARIES AND METHOD DEFINITIONS"
      ],
      "metadata": {
        "id": "9v6KTpSno-PX"
      }
    },
    {
      "cell_type": "code",
      "execution_count": null,
      "metadata": {
        "id": "vKSXdeKHoiuT"
      },
      "outputs": [],
      "source": [
        "import numpy as np\n",
        "import pandas as pd\n",
        "import sklearn as sk\n",
        "import random\n",
        "from sklearn import metrics\n",
        "from sklearn.model_selection import train_test_split\n",
        "from sklearn.model_selection import StratifiedKFold\n",
        "from sklearn.model_selection import KFold\n",
        "from sklearn.neighbors import KNeighborsClassifier\n",
        "from sklearn import svm\n",
        "from sklearn.naive_bayes import GaussianNB\n",
        "from sklearn.linear_model import LogisticRegression\n",
        "from sklearn import preprocessing\n",
        "from sklearn.ensemble import IsolationForest\n",
        "from sklearn.preprocessing import StandardScaler\n",
        "from sklearn.preprocessing import LabelEncoder\n",
        "from sklearn.model_selection import cross_validate\n",
        "from sklearn.pipeline import Pipeline\n",
        "le = LabelEncoder()"
      ]
    },
    {
      "cell_type": "code",
      "execution_count": null,
      "metadata": {
        "id": "bTVHRveGeM4_"
      },
      "outputs": [],
      "source": [
        "def getKNeighborsClassifier(X_train, y_train) :\n",
        "  \"\"\"\n",
        "    KNeighbors Classifier\n",
        "\n",
        "    Parameters\n",
        "    ----------\n",
        "    X_train : dataset\n",
        "      training features\n",
        "    y_train : dataset\n",
        "      training labels\n",
        "    \n",
        "    Returns\n",
        "    -------\n",
        "    sklearn KNeighbors model\n",
        "      Model after training\n",
        "  \"\"\"\n",
        "  model = KNeighborsClassifier()\n",
        "  model.fit(X_train, y_train)\n",
        "  print(\"Accuracy of the model (with training data) :\", model.score(X_train, y_train))\n",
        "  return model"
      ]
    },
    {
      "cell_type": "code",
      "execution_count": null,
      "metadata": {
        "id": "Zrv1ZOAeP19y"
      },
      "outputs": [],
      "source": [
        "def getSVClassifier(X_train, y_train):\n",
        "  \"\"\"\n",
        "    Support Vector Classifier\n",
        "\n",
        "    Parameters\n",
        "    ----------\n",
        "    X_train : dataset\n",
        "      training features\n",
        "    y_train : dataset\n",
        "      training labels\n",
        "    \n",
        "    Returns\n",
        "    -------\n",
        "    sklearn Support Vector model\n",
        "      Model after training\n",
        "  \"\"\"\n",
        "  model = svm.SVC(kernel='linear')\n",
        "  model.fit(X_train, y_train)\n",
        "  print(\"Accuracy of the model (with training data) :\", model.score(X_train, y_train))\n",
        "  return model"
      ]
    },
    {
      "cell_type": "code",
      "execution_count": null,
      "metadata": {
        "id": "kTL3VsXzTGS8"
      },
      "outputs": [],
      "source": [
        "def getGaussianNBClassifier(X_train, y_train):\n",
        "  \"\"\"\n",
        "    Gaussian Naive Bayes Classifier\n",
        "\n",
        "    Parameters\n",
        "    ----------\n",
        "    X_train : dataset\n",
        "      training features\n",
        "    y_train : dataset\n",
        "      training labels\n",
        "    \n",
        "    Returns\n",
        "    -------\n",
        "    sklearn Gaussian Naive Bayes model\n",
        "      Model after training\n",
        "  \"\"\"\n",
        "  model = GaussianNB()\n",
        "  model.fit(X_train, y_train)\n",
        "  print(\"Accuracy of the model (with training data) :\", model.score(X_train, y_train))\n",
        "  return model"
      ]
    },
    {
      "cell_type": "code",
      "execution_count": null,
      "metadata": {
        "id": "zIa9m6i_U5Le"
      },
      "outputs": [],
      "source": [
        "def getLogisticRegressionClassifier(X_train, y_train):\n",
        "  \"\"\"\n",
        "    Logistic Regression\n",
        "\n",
        "    Parameters\n",
        "    ----------\n",
        "    X_train : dataset\n",
        "      training features\n",
        "    y_train : dataset\n",
        "      training labels\n",
        "    \n",
        "    Returns\n",
        "    -------\n",
        "    sklearn Logistic Regression model\n",
        "      Model after training\n",
        "  \"\"\"\n",
        "  model = LogisticRegression()\n",
        "  model.fit(X_train, y_train)\n",
        "  print(\"Accuracy of the model (with training data) :\", model.score(X_train, y_train))\n",
        "  return model"
      ]
    },
    {
      "cell_type": "code",
      "execution_count": null,
      "metadata": {
        "id": "DofoA5VdRVE6"
      },
      "outputs": [],
      "source": [
        "def evaluateModel(model, X_test, y_test, isBinary):\n",
        "  \"\"\"\n",
        "    Evaluates the model with 5 metrics and returns expected values and predicted values in a dataframe\n",
        "\n",
        "    Parameters\n",
        "    ----------\n",
        "    model : sklearn model\n",
        "      model used to make the predictions\n",
        "    X_test : dataset\n",
        "      testing features\n",
        "    y_test : dataset\n",
        "      testing labels\n",
        "    isBinary : boolean\n",
        "      True for binary classes, False for multi classes\n",
        "\n",
        "    Returns\n",
        "    -------\n",
        "    dataframe\n",
        "      expected values and predicted values in a dataframe\n",
        "  \"\"\"\n",
        "  y_pred = pd.DataFrame(model.predict(X_test))\n",
        "  print(\"Accuracy :\", metrics.accuracy_score(y_test, y_pred))\n",
        "  print(\"Balanced accuracy :\", metrics.balanced_accuracy_score(y_test, y_pred))\n",
        "  print(\"Confusion matrix :\", metrics.confusion_matrix(y_test, y_pred))\n",
        "  if isBinary:\n",
        "    print(\"Precision :\", metrics.precision_score(y_test, y_pred))\n",
        "    print(\"Recall :\", metrics.recall_score(y_test, y_pred))\n",
        "  else:\n",
        "    print(\"Precision :\", metrics.precision_score(y_test, y_pred, average='macro', zero_division=0))\n",
        "    print(\"Recall :\", metrics.recall_score(y_test, y_pred, average='macro', zero_division=0))\n",
        "  return get_Results_Dataframe(y_pred, y_test)"
      ]
    },
    {
      "cell_type": "code",
      "execution_count": null,
      "metadata": {
        "id": "0fjX3_bfQiHE"
      },
      "outputs": [],
      "source": [
        "def get_Results_Dataframe(predict, y_test):\n",
        "  \"\"\"\n",
        "    Makes a dataframe with the expected values and the predicted values \n",
        "\n",
        "    Parameters\n",
        "      ----------\n",
        "      predict : dataset\n",
        "        predicted values\n",
        "      y_test : dataset\n",
        "        testing labels = expected values\n",
        "    \n",
        "    Returns\n",
        "    -------\n",
        "    dataframe\n",
        "      expected values and predicted values in a dataframe\n",
        "  \"\"\"\n",
        "  predict.set_index(y_test.index, inplace=True)\n",
        "  result = pd.concat([y_test, predict], axis=1)\n",
        "  result.rename({result.columns[0]: 'y_test', result.columns[1]: 'y_pred'}, axis=1, inplace=True)\n",
        "  return result"
      ]
    },
    {
      "cell_type": "code",
      "execution_count": null,
      "metadata": {
        "id": "x9C8Q4LZgPrM"
      },
      "outputs": [],
      "source": [
        "def printResults(data, nbRowsMin, nbRowsMax):\n",
        "  \"\"\"\n",
        "    Prints the dataframe and the occurrence of dataset elements\n",
        "\n",
        "    Parameters\n",
        "      ----------\n",
        "      data : dataset\n",
        "        dataset to print\n",
        "      nbRowsMin : int\n",
        "        minimum of rows to print\n",
        "      nbRowsMax : int\n",
        "        maximum of rows to print\n",
        "      \n",
        "    Returns\n",
        "    -------\n",
        "  \"\"\"\n",
        "  pd.set_option(\"display.min_rows\", nbRowsMin, \"display.max_rows\", nbRowsMax, \"display.max_columns\", None)\n",
        "  print(data)"
      ]
    },
    {
      "cell_type": "markdown",
      "source": [
        "## H1N1 DATASET"
      ],
      "metadata": {
        "id": "Ma_EhvDSogDj"
      }
    },
    {
      "cell_type": "code",
      "execution_count": null,
      "metadata": {
        "id": "5WF-KwMlyKLT"
      },
      "outputs": [],
      "source": [
        "\"\"\"\n",
        "H1N1 flu vaccines dataset import\n",
        "\"\"\"\n",
        "X_vaccines = pd.read_csv('https://raw.githubusercontent.com/a-coutarel/Projet-4A-IA/main/vaccines_data/training_set_features.csv')  \n",
        "y_vaccines = pd.read_csv('https://raw.githubusercontent.com/a-coutarel/Projet-4A-IA/main/vaccines_data/training_set_labels.csv')\n",
        "dataset_vaccines = pd.merge(X_vaccines, y_vaccines, on=['respondent_id','respondent_id'])"
      ]
    },
    {
      "cell_type": "code",
      "source": [
        "\"\"\"\n",
        "Counts the occurrences of each class\n",
        "\"\"\"\n",
        "y_vaccines['h1n1_vaccine'].value_counts()"
      ],
      "metadata": {
        "colab": {
          "base_uri": "https://localhost:8080/"
        },
        "id": "gdMoKWlpVmAV",
        "outputId": "1a6dea48-ed6a-40b1-8c55-d6e8d3b45405"
      },
      "execution_count": null,
      "outputs": [
        {
          "output_type": "execute_result",
          "data": {
            "text/plain": [
              "0    21033\n",
              "1     5674\n",
              "Name: h1n1_vaccine, dtype: int64"
            ]
          },
          "metadata": {},
          "execution_count": 6
        }
      ]
    },
    {
      "cell_type": "code",
      "execution_count": null,
      "metadata": {
        "id": "5nkUOydN3soZ"
      },
      "outputs": [],
      "source": [
        "\"\"\"\n",
        "Converts categorical variables into numbers\n",
        "\"\"\"\n",
        "dataset_vaccines['sex'] = le.fit_transform(dataset_vaccines['sex'])\n",
        "dataset_vaccines['race'] = le.fit_transform(dataset_vaccines['race'])\n",
        "dataset_vaccines['age_group'] = le.fit_transform(dataset_vaccines['age_group'])\n",
        "dataset_vaccines['education'] = le.fit_transform(dataset_vaccines['education'])\n",
        "dataset_vaccines['income_poverty'] = le.fit_transform(dataset_vaccines['income_poverty'])\n",
        "dataset_vaccines['marital_status'] = le.fit_transform(dataset_vaccines['marital_status'])\n",
        "dataset_vaccines['rent_or_own'] = le.fit_transform(dataset_vaccines['rent_or_own'])\n",
        "dataset_vaccines['employment_status'] = le.fit_transform(dataset_vaccines['employment_status'])\n",
        "dataset_vaccines['census_msa'] = le.fit_transform(dataset_vaccines['census_msa'])\n",
        "dataset_vaccines['hhs_geo_region'] = le.fit_transform(dataset_vaccines['hhs_geo_region'])\n",
        "dataset_vaccines['employment_industry'] = le.fit_transform(dataset_vaccines['employment_industry'])\n",
        "dataset_vaccines['employment_occupation'] = le.fit_transform(dataset_vaccines['employment_occupation'])\n",
        "\n",
        "\"\"\"\n",
        "Deletes dataset lines which contains missing values (NaN) and splitting features and labels\n",
        "\"\"\"\n",
        "dataset_vaccines = dataset_vaccines.dropna()\n",
        "y_vaccines = dataset_vaccines.pop('h1n1_vaccine')\n",
        "X_vaccines = dataset_vaccines"
      ]
    },
    {
      "cell_type": "code",
      "execution_count": null,
      "metadata": {
        "colab": {
          "background_save": true,
          "base_uri": "https://localhost:8080/"
        },
        "id": "GkY9BsiXkugF",
        "outputId": "70309dfe-9543-4791-8469-ddb0491f7e28"
      },
      "outputs": [
        {
          "name": "stdout",
          "output_type": "stream",
          "text": [
            "\n",
            "KNN CLASSIFIER :\n",
            "\n",
            "Accuracy of the model (with training data) : 0.8537127141950497\n",
            "Accuracy : 0.808532249873032\n",
            "Balanced accuracy : 0.7019666720770438\n",
            "Confusion matrix : [[1348  116]\n",
            " [ 261  244]]\n",
            "Precision : 0.6777777777777778\n",
            "Recall : 0.48316831683168315\n",
            "\n",
            "SVC CLASSIFIER :\n",
            "\n",
            "Accuracy of the model (with training data) : 0.8422889782102814\n",
            "Accuracy : 0.8481462671406805\n",
            "Balanced accuracy : 0.7655744467889412\n",
            "Confusion matrix : [[1369   95]\n",
            " [ 204  301]]\n",
            "Precision : 0.76010101010101\n",
            "Recall : 0.596039603960396\n",
            "\n",
            "GNB CLASSIFIER :\n",
            "\n",
            "Accuracy of the model (with training data) : 0.7743812143008251\n",
            "Accuracy : 0.7836465210766886\n",
            "Balanced accuracy : 0.7442514743277606\n",
            "Confusion matrix : [[1208  256]\n",
            " [ 170  335]]\n",
            "Precision : 0.5668358714043993\n",
            "Recall : 0.6633663366336634\n",
            "\n",
            "LR CLASSIFIER :\n",
            "\n",
            "Accuracy of the model (with training data) : 0.8416543262111276\n",
            "Accuracy : 0.845606907059421\n",
            "Balanced accuracy : 0.7619210896499486\n",
            "Confusion matrix : [[1367   97]\n",
            " [ 207  298]]\n",
            "Precision : 0.7544303797468355\n",
            "Recall : 0.5900990099009901\n"
          ]
        }
      ],
      "source": [
        "\"\"\"\n",
        "Train/test split and removal of outliers + model training and testing \n",
        "\"\"\"\n",
        "X_train_vaccines, X_test_vaccines, y_train_vaccines, y_test_vaccines = train_test_split(X_vaccines, y_vaccines, test_size=0.3, random_state=42)\n",
        "\n",
        "IF = IsolationForest(random_state=42)\n",
        "IF.fit(X_train_vaccines)\n",
        "y_pred = IF.predict(X_test_vaccines)\n",
        "X_test_vaccines = X_test_vaccines[y_pred != -1]\n",
        "y_test_vaccines = y_test_vaccines[y_pred != -1]\n",
        "\n",
        "scaler = StandardScaler().fit(X_train_vaccines)\n",
        "X_train_vaccines = scaler.transform(X_train_vaccines)\n",
        "X_test_vaccines = scaler.transform(X_test_vaccines)\n",
        "\n",
        "\"\"\"\n",
        "KNN Classifier for H1N1 vaccines\n",
        "\"\"\"\n",
        "print(\"\\nKNN CLASSIFIER :\\n\")\n",
        "KNNmodel = getKNeighborsClassifier(X_train_vaccines, y_train_vaccines)\n",
        "KNN = evaluateModel(KNNmodel, X_test_vaccines, y_test_vaccines, True)\n",
        "#printResults(KNN, 0, 15)\n",
        "\n",
        "\"\"\"\n",
        "SVC Classifier for H1N1 vaccines\n",
        "\"\"\"\n",
        "print(\"\\nSVC CLASSIFIER :\\n\")\n",
        "SVCmodel = getSVClassifier(X_train_vaccines, y_train_vaccines)\n",
        "SVC = evaluateModel(SVCmodel, X_test_vaccines, y_test_vaccines, True)\n",
        "#printResults(SVC, 0, 15)\n",
        "\n",
        "\"\"\"\n",
        "GNB Classifier for H1N1 vaccines\n",
        "\"\"\"\n",
        "print(\"\\nGNB CLASSIFIER :\\n\")\n",
        "GNBmodel = getGaussianNBClassifier(X_train_vaccines, y_train_vaccines)\n",
        "GNB = evaluateModel(GNBmodel, X_test_vaccines, y_test_vaccines, True)\n",
        "#printResults(GNB, 0, 15)\n",
        "\n",
        "\"\"\"\n",
        "LR Classifier for H1N1 vaccines\n",
        "\"\"\"\n",
        "print(\"\\nLR CLASSIFIER :\\n\")\n",
        "LRmodel = getLogisticRegressionClassifier(X_train_vaccines, y_train_vaccines)\n",
        "LR = evaluateModel(LRmodel, X_test_vaccines, y_test_vaccines, True)\n",
        "#printResults(LR, 0, 15)"
      ]
    },
    {
      "cell_type": "code",
      "execution_count": null,
      "metadata": {
        "colab": {
          "base_uri": "https://localhost:8080/"
        },
        "id": "f0XAOrLaAVoE",
        "outputId": "76d09e07-2b10-456f-f2a0-18164fb0f4bd"
      },
      "outputs": [
        {
          "name": "stdout",
          "output_type": "stream",
          "text": [
            "Accuracy : [0.80643967 0.80451685 0.79340985 0.80007405 0.79526101]\n",
            "Mean Accuracy : 0.7999402858441825\n",
            "Balanced accuracy : [0.73953533 0.73412831 0.73479683 0.73763398 0.7308517 ]\n",
            "Mean Balanced accuracy : 0.7353892316771897\n",
            "Precision : [0.69692308 0.70253165 0.7012987  0.6958457  0.70757576]\n",
            "Mean Precision : 0.7008349757393065\n",
            "Recall : [0.58151476 0.56632653 0.58064516 0.58333333 0.56469166]\n",
            "Mean Recall : 0.5753022888684064\n"
          ]
        }
      ],
      "source": [
        "\"\"\"\n",
        "KNN Classifier with kfolds for H1N1 vaccines\n",
        "\"\"\"\n",
        "kf = KFold(n_splits=5, shuffle=True, random_state=42)\n",
        "pipe = Pipeline([\n",
        "    ('scaler', StandardScaler()),\n",
        "    ('classifier', KNeighborsClassifier())\n",
        "])\n",
        "scoring = ['accuracy', 'balanced_accuracy', 'precision', 'recall']\n",
        "scores = cross_validate(pipe, X=X_vaccines, y=y_vaccines, cv=kf, scoring=scoring, return_train_score=True)\n",
        "print(\"Accuracy :\", scores['test_accuracy'])\n",
        "print(\"Mean Accuracy :\", scores['test_accuracy'].mean())\n",
        "print(\"Balanced accuracy :\", scores['test_balanced_accuracy'])\n",
        "print(\"Mean Balanced accuracy :\", scores['test_balanced_accuracy'].mean())\n",
        "print(\"Precision :\", scores['test_precision'])\n",
        "print(\"Mean Precision :\", scores['test_precision'].mean())\n",
        "print(\"Recall :\", scores['test_recall'])\n",
        "print(\"Mean Recall :\", scores['test_recall'].mean())"
      ]
    },
    {
      "cell_type": "code",
      "execution_count": null,
      "metadata": {
        "colab": {
          "base_uri": "https://localhost:8080/"
        },
        "id": "L_1HbZDgUGFV",
        "outputId": "08797e46-83cf-4e15-de89-cb1eb6e7da89"
      },
      "outputs": [
        {
          "name": "stdout",
          "output_type": "stream",
          "text": [
            "Accuracy : [0.85418209 0.84376157 0.83524621 0.8430211  0.8374676 ]\n",
            "Mean Accuracy : 0.8427357140253726\n",
            "Balanced accuracy : [0.80362372 0.78929164 0.78715978 0.79687389 0.79200644]\n",
            "Mean Balanced accuracy : 0.7937910951787528\n",
            "Precision : [0.78267254 0.76934524 0.7745098  0.76462396 0.76648352]\n",
            "Mean Precision : 0.7715270108627739\n",
            "Recall : [0.68421053 0.65943878 0.66069295 0.68283582 0.67472793]\n",
            "Mean Recall : 0.6723812012044833\n"
          ]
        }
      ],
      "source": [
        "\"\"\"\n",
        "SVC Classifier with kfolds for H1N1 vaccines\n",
        "\"\"\"\n",
        "kf = KFold(n_splits=5, shuffle=True, random_state=42)\n",
        "pipe = Pipeline([\n",
        "    ('scaler', StandardScaler()),\n",
        "    ('classifier', svm.SVC(kernel='linear'))\n",
        "])\n",
        "scoring = ['accuracy', 'balanced_accuracy', 'precision', 'recall']\n",
        "scores = cross_validate(pipe, X=X_vaccines, y=y_vaccines, cv=kf, scoring=scoring, return_train_score=True)\n",
        "print(\"Accuracy :\", scores['test_accuracy'])\n",
        "print(\"Mean Accuracy :\", scores['test_accuracy'].mean())\n",
        "print(\"Balanced accuracy :\", scores['test_balanced_accuracy'])\n",
        "print(\"Mean Balanced accuracy :\", scores['test_balanced_accuracy'].mean())\n",
        "print(\"Precision :\", scores['test_precision'])\n",
        "print(\"Mean Precision :\", scores['test_precision'].mean())\n",
        "print(\"Recall :\", scores['test_recall'])\n",
        "print(\"Mean Recall :\", scores['test_recall'].mean())"
      ]
    },
    {
      "cell_type": "code",
      "execution_count": null,
      "metadata": {
        "colab": {
          "base_uri": "https://localhost:8080/"
        },
        "id": "Bs2SSwT3ceY3",
        "outputId": "7372182a-9280-46d8-efed-0fb489055b15"
      },
      "outputs": [
        {
          "name": "stdout",
          "output_type": "stream",
          "text": [
            "Accuracy : [0.77831236 0.77823029 0.77304702 0.77378749 0.77082562]\n",
            "Mean Accuracy : 0.7748405544345639\n",
            "Balanced accuracy : [0.76368593 0.75782606 0.75888109 0.75761841 0.75681669]\n",
            "Mean Balanced accuracy : 0.758965635550126\n",
            "Precision : [0.59414226 0.59978425 0.61382114 0.60041623 0.60569106]\n",
            "Mean Precision : 0.6027709875792789\n",
            "Recall : [0.72913992 0.70918367 0.72162485 0.71766169 0.72067715]\n",
            "Mean Recall : 0.7196574569917866\n"
          ]
        }
      ],
      "source": [
        "\"\"\"\n",
        "GNB Classifier with kfolds for H1N1 vaccines\n",
        "\"\"\"\n",
        "kf = KFold(n_splits=5, shuffle=True, random_state=42)\n",
        "pipe = Pipeline([\n",
        "    ('scaler', StandardScaler()),\n",
        "    ('classifier', GaussianNB())\n",
        "])\n",
        "scoring = ['accuracy', 'balanced_accuracy', 'precision', 'recall']\n",
        "scores = cross_validate(pipe, X=X_vaccines, y=y_vaccines, cv=kf, scoring=scoring, return_train_score=True)\n",
        "print(\"Accuracy :\", scores['test_accuracy'])\n",
        "print(\"Mean Accuracy :\", scores['test_accuracy'].mean())\n",
        "print(\"Balanced accuracy :\", scores['test_balanced_accuracy'])\n",
        "print(\"Mean Balanced accuracy :\", scores['test_balanced_accuracy'].mean())\n",
        "print(\"Precision :\", scores['test_precision'])\n",
        "print(\"Mean Precision :\", scores['test_precision'].mean())\n",
        "print(\"Recall :\", scores['test_recall'])\n",
        "print(\"Mean Recall :\", scores['test_recall'].mean())"
      ]
    },
    {
      "cell_type": "code",
      "execution_count": null,
      "metadata": {
        "colab": {
          "base_uri": "https://localhost:8080/"
        },
        "id": "iD36MzUWc5_y",
        "outputId": "021e572d-689e-4945-c5e8-7b47603d0647"
      },
      "outputs": [
        {
          "name": "stdout",
          "output_type": "stream",
          "text": [
            "Accuracy : [0.85418209 0.84228064 0.83561644 0.84116994 0.83672714]\n",
            "Mean Accuracy : 0.8419952475314816\n",
            "Balanced accuracy : [0.80209637 0.78824834 0.78940281 0.79412276 0.79113504]\n",
            "Mean Balanced accuracy : 0.7930010628233763\n",
            "Precision : [0.78603269 0.7647929  0.77103448 0.76223776 0.76510989]\n",
            "Mean Precision : 0.769841544792956\n",
            "Recall : [0.67907574 0.65943878 0.66786141 0.6778607  0.67351874]\n",
            "Mean Recall : 0.6715510724785754\n"
          ]
        }
      ],
      "source": [
        "\"\"\"\n",
        "LR Classifier with kfolds for H1N1 vaccines\n",
        "\"\"\"\n",
        "kf = KFold(n_splits=5, shuffle=True, random_state=42)\n",
        "pipe = Pipeline([\n",
        "    ('scaler', StandardScaler()),\n",
        "    ('classifier', LogisticRegression())\n",
        "])\n",
        "scoring = ['accuracy', 'balanced_accuracy', 'precision', 'recall']\n",
        "scores = cross_validate(pipe, X=X_vaccines, y=y_vaccines, cv=kf, scoring=scoring, return_train_score=True)\n",
        "print(\"Accuracy :\", scores['test_accuracy'])\n",
        "print(\"Mean Accuracy :\", scores['test_accuracy'].mean())\n",
        "print(\"Balanced accuracy :\", scores['test_balanced_accuracy'])\n",
        "print(\"Mean Balanced accuracy :\", scores['test_balanced_accuracy'].mean())\n",
        "print(\"Precision :\", scores['test_precision'])\n",
        "print(\"Mean Precision :\", scores['test_precision'].mean())\n",
        "print(\"Recall :\", scores['test_recall'])\n",
        "print(\"Mean Recall :\", scores['test_recall'].mean())"
      ]
    },
    {
      "cell_type": "code",
      "execution_count": null,
      "metadata": {
        "colab": {
          "base_uri": "https://localhost:8080/"
        },
        "id": "DfY6shsFOI_t",
        "outputId": "1518b321-7c17-4ed4-f83c-9bfe83d8eedd"
      },
      "outputs": [
        {
          "name": "stdout",
          "output_type": "stream",
          "text": [
            "Accuracy : [0.79348631 0.80673825 0.78711588 0.79711218 0.80932988]\n",
            "Mean Accuracy : 0.7987564986074462\n",
            "Balanced accuracy : [0.7243532  0.73785232 0.72351166 0.73170515 0.74718569]\n",
            "Mean Balanced accuracy : 0.7329216038918581\n",
            "Precision : [0.69362364 0.72539683 0.66960352 0.69545455 0.71879699]\n",
            "Mean Precision : 0.7005751053505879\n",
            "Recall : [0.55266419 0.56699752 0.56575682 0.56947891 0.59305211]\n",
            "Mean Recall : 0.5695899096306819\n"
          ]
        }
      ],
      "source": [
        "\"\"\"\n",
        "KNN Classifier with Stratified kfolds for H1N1 vaccines\n",
        "\"\"\"\n",
        "skf = StratifiedKFold(n_splits=5, shuffle=True, random_state=42)\n",
        "pipe = Pipeline([\n",
        "    ('scaler', StandardScaler()),\n",
        "    ('classifier', KNeighborsClassifier())\n",
        "])\n",
        "scoring = ['accuracy', 'balanced_accuracy', 'precision', 'recall']\n",
        "scores = cross_validate(pipe, X=X_vaccines, y=y_vaccines, cv=skf, scoring=scoring, return_train_score=True)\n",
        "print(\"Accuracy :\", scores['test_accuracy'])\n",
        "print(\"Mean Accuracy :\", scores['test_accuracy'].mean())\n",
        "print(\"Balanced accuracy :\", scores['test_balanced_accuracy'])\n",
        "print(\"Mean Balanced accuracy :\", scores['test_balanced_accuracy'].mean())\n",
        "print(\"Precision :\", scores['test_precision'])\n",
        "print(\"Mean Precision :\", scores['test_precision'].mean())\n",
        "print(\"Recall :\", scores['test_recall'])\n",
        "print(\"Mean Recall :\", scores['test_recall'].mean())"
      ]
    },
    {
      "cell_type": "code",
      "execution_count": null,
      "metadata": {
        "colab": {
          "base_uri": "https://localhost:8080/"
        },
        "id": "cY5dy8_NdbG_",
        "outputId": "4d7215ff-41f8-491e-93fe-618b6e3c7043"
      },
      "outputs": [
        {
          "name": "stdout",
          "output_type": "stream",
          "text": [
            "Accuracy : [0.83604737 0.85042577 0.83783784 0.84450204 0.84116994]\n",
            "Mean Accuracy : 0.8419965903463668\n",
            "Balanced accuracy : [0.78422151 0.80071495 0.78604006 0.79506734 0.79411865]\n",
            "Mean Balanced accuracy : 0.7920325003434442\n",
            "Precision : [0.76224784 0.79130435 0.76589595 0.7765043  0.76363636]\n",
            "Mean Precision : 0.771917760366132\n",
            "Recall : [0.65551425 0.67741935 0.65756824 0.67245658 0.67741935]\n",
            "Mean Recall : 0.6680755547765981\n"
          ]
        }
      ],
      "source": [
        "\"\"\"\n",
        "SVC Classifier with Stratified kfolds for H1N1 vaccines\n",
        "\"\"\"\n",
        "skf = StratifiedKFold(n_splits=5, shuffle=True, random_state=42)\n",
        "pipe = Pipeline([\n",
        "    ('scaler', StandardScaler()),\n",
        "    ('classifier', svm.SVC(kernel='linear'))\n",
        "])\n",
        "scoring = ['accuracy', 'balanced_accuracy', 'precision', 'recall']\n",
        "scores = cross_validate(pipe, X=X_vaccines, y=y_vaccines, cv=skf, scoring=scoring, return_train_score=True)\n",
        "print(\"Accuracy :\", scores['test_accuracy'])\n",
        "print(\"Mean Accuracy :\", scores['test_accuracy'].mean())\n",
        "print(\"Balanced accuracy :\", scores['test_balanced_accuracy'])\n",
        "print(\"Mean Balanced accuracy :\", scores['test_balanced_accuracy'].mean())\n",
        "print(\"Precision :\", scores['test_precision'])\n",
        "print(\"Mean Precision :\", scores['test_precision'].mean())\n",
        "print(\"Recall :\", scores['test_recall'])\n",
        "print(\"Mean Recall :\", scores['test_recall'].mean())"
      ]
    },
    {
      "cell_type": "code",
      "execution_count": null,
      "metadata": {
        "colab": {
          "base_uri": "https://localhost:8080/"
        },
        "id": "Hz8_5IwpdrC5",
        "outputId": "431b615e-b770-48d4-d72c-e828f7e8a1be"
      },
      "outputs": [
        {
          "name": "stdout",
          "output_type": "stream",
          "text": [
            "Accuracy : [0.77720207 0.78119215 0.76897445 0.77378749 0.77156609]\n",
            "Mean Accuracy : 0.7745444500501638\n",
            "Balanced accuracy : [0.76147823 0.76420841 0.75264933 0.75465342 0.76055671]\n",
            "Mean Balanced accuracy : 0.7587092189529507\n",
            "Precision : [0.60665973 0.61327713 0.5942029  0.6031746  0.59516616]\n",
            "Mean Precision : 0.6024961056281783\n",
            "Recall : [0.72242875 0.72208437 0.71215881 0.70719603 0.73325062]\n",
            "Mean Recall : 0.7194237149507566\n"
          ]
        }
      ],
      "source": [
        "\"\"\"\n",
        "GNB Classifier with Stratified kfolds for H1N1 vaccines\n",
        "\"\"\"\n",
        "skf = StratifiedKFold(n_splits=5, shuffle=True, random_state=42)\n",
        "pipe = Pipeline([\n",
        "    ('scaler', StandardScaler()),\n",
        "    ('classifier', GaussianNB())\n",
        "])\n",
        "scoring = ['accuracy', 'balanced_accuracy', 'precision', 'recall']\n",
        "scores = cross_validate(pipe, X=X_vaccines, y=y_vaccines, cv=skf, scoring=scoring, return_train_score=True)\n",
        "print(\"Accuracy :\", scores['test_accuracy'])\n",
        "print(\"Mean Accuracy :\", scores['test_accuracy'].mean())\n",
        "print(\"Balanced accuracy :\", scores['test_balanced_accuracy'])\n",
        "print(\"Mean Balanced accuracy :\", scores['test_balanced_accuracy'].mean())\n",
        "print(\"Precision :\", scores['test_precision'])\n",
        "print(\"Mean Precision :\", scores['test_precision'].mean())\n",
        "print(\"Recall :\", scores['test_recall'])\n",
        "print(\"Mean Recall :\", scores['test_recall'].mean())"
      ]
    },
    {
      "cell_type": "code",
      "execution_count": null,
      "metadata": {
        "colab": {
          "base_uri": "https://localhost:8080/"
        },
        "id": "kYUeukoPdq1Q",
        "outputId": "7b07b973-235e-44ef-cd06-35e97e4021bd"
      },
      "outputs": [
        {
          "name": "stdout",
          "output_type": "stream",
          "text": [
            "Accuracy : [0.83197631 0.85042577 0.83820807 0.8430211  0.8430211 ]\n",
            "Mean Accuracy : 0.8413304719501042\n",
            "Balanced accuracy : [0.77989622 0.80000196 0.78559092 0.79365543 0.79722039]\n",
            "Mean Balanced accuracy : 0.7912729851515055\n",
            "Precision : [0.75322812 0.79300292 0.76855895 0.77285714 0.76527778]\n",
            "Mean Precision : 0.7705849817136761\n",
            "Recall : [0.65055762 0.67493797 0.65508685 0.67121588 0.68362283]\n",
            "Mean Recall : 0.6670842288782091\n"
          ]
        }
      ],
      "source": [
        "\"\"\"\n",
        "LR Classifier with Stratified kfolds for H1N1 vaccines\n",
        "\"\"\"\n",
        "skf = StratifiedKFold(n_splits=5, shuffle=True, random_state=42)\n",
        "pipe = Pipeline([\n",
        "    ('scaler', StandardScaler()),\n",
        "    ('classifier', LogisticRegression())\n",
        "])\n",
        "scoring = ['accuracy', 'balanced_accuracy', 'precision', 'recall']\n",
        "scores = cross_validate(pipe, X=X_vaccines, y=y_vaccines, cv=skf, scoring=scoring, return_train_score=True)\n",
        "print(\"Accuracy :\", scores['test_accuracy'])\n",
        "print(\"Mean Accuracy :\", scores['test_accuracy'].mean())\n",
        "print(\"Balanced accuracy :\", scores['test_balanced_accuracy'])\n",
        "print(\"Mean Balanced accuracy :\", scores['test_balanced_accuracy'].mean())\n",
        "print(\"Precision :\", scores['test_precision'])\n",
        "print(\"Mean Precision :\", scores['test_precision'].mean())\n",
        "print(\"Recall :\", scores['test_recall'])\n",
        "print(\"Mean Recall :\", scores['test_recall'].mean())"
      ]
    },
    {
      "cell_type": "markdown",
      "source": [
        "## WATER PUMPS DATASET"
      ],
      "metadata": {
        "id": "Uk5kUdV0oslH"
      }
    },
    {
      "cell_type": "code",
      "execution_count": null,
      "metadata": {
        "id": "BRcgY-3LpBTH"
      },
      "outputs": [],
      "source": [
        "\"\"\"\n",
        "water pumps dataset import\n",
        "\"\"\"\n",
        "X_water_pumps = pd.read_csv('https://raw.githubusercontent.com/a-coutarel/Projet-4A-IA/main/water_pumps_data/training_set_values.csv')  \n",
        "y_water_pumps = pd.read_csv('https://raw.githubusercontent.com/a-coutarel/Projet-4A-IA/main/water_pumps_data/training_set_labels.csv')\n",
        "dataset_water_pumps = pd.merge(X_water_pumps, y_water_pumps, on=['id','id'])"
      ]
    },
    {
      "cell_type": "code",
      "source": [
        "\"\"\"\n",
        "Counts the occurrences of each class\n",
        "\"\"\"\n",
        "y_water_pumps['status_group'].value_counts()"
      ],
      "metadata": {
        "colab": {
          "base_uri": "https://localhost:8080/"
        },
        "id": "rWxa-mhkWUYW",
        "outputId": "077ffa45-3665-444b-ab0e-e2e9eb094710"
      },
      "execution_count": null,
      "outputs": [
        {
          "output_type": "execute_result",
          "data": {
            "text/plain": [
              "functional                 32259\n",
              "non functional             22824\n",
              "functional needs repair     4317\n",
              "Name: status_group, dtype: int64"
            ]
          },
          "metadata": {},
          "execution_count": 9
        }
      ]
    },
    {
      "cell_type": "code",
      "execution_count": null,
      "metadata": {
        "id": "IEEf6gTDsl1f"
      },
      "outputs": [],
      "source": [
        "\"\"\"\n",
        "Converts categorical variables into numbers\n",
        "\"\"\"\n",
        "dataset_water_pumps['date_recorded'] = le.fit_transform(dataset_water_pumps['date_recorded'])\n",
        "dataset_water_pumps['funder'] = le.fit_transform(dataset_water_pumps['funder'])\n",
        "dataset_water_pumps['installer'] = le.fit_transform(dataset_water_pumps['installer'])\n",
        "dataset_water_pumps['wpt_name'] = le.fit_transform(dataset_water_pumps['wpt_name'])\n",
        "dataset_water_pumps['basin'] = le.fit_transform(dataset_water_pumps['basin'])\n",
        "dataset_water_pumps['subvillage'] = le.fit_transform(dataset_water_pumps['subvillage'])\n",
        "dataset_water_pumps['region'] = le.fit_transform(dataset_water_pumps['region'])\n",
        "dataset_water_pumps['lga'] = le.fit_transform(dataset_water_pumps['lga'])\n",
        "dataset_water_pumps['ward'] = le.fit_transform(dataset_water_pumps['ward'])\n",
        "dataset_water_pumps['public_meeting'] = le.fit_transform(dataset_water_pumps['public_meeting'])\n",
        "dataset_water_pumps['recorded_by'] = le.fit_transform(dataset_water_pumps['recorded_by'])\n",
        "dataset_water_pumps['scheme_management'] = le.fit_transform(dataset_water_pumps['scheme_management'])\n",
        "dataset_water_pumps['scheme_name'] = le.fit_transform(dataset_water_pumps['scheme_name'])\n",
        "dataset_water_pumps['permit'] = le.fit_transform(dataset_water_pumps['permit'])\n",
        "dataset_water_pumps['extraction_type'] = le.fit_transform(dataset_water_pumps['extraction_type'])\n",
        "dataset_water_pumps['extraction_type_group'] = le.fit_transform(dataset_water_pumps['extraction_type_group'])\n",
        "dataset_water_pumps['extraction_type_class'] = le.fit_transform(dataset_water_pumps['extraction_type_class'])\n",
        "dataset_water_pumps['management'] = le.fit_transform(dataset_water_pumps['management'])\n",
        "dataset_water_pumps['management_group'] = le.fit_transform(dataset_water_pumps['management_group'])\n",
        "dataset_water_pumps['payment'] = le.fit_transform(dataset_water_pumps['payment'])\n",
        "dataset_water_pumps['payment_type'] = le.fit_transform(dataset_water_pumps['payment_type'])\n",
        "dataset_water_pumps['water_quality'] = le.fit_transform(dataset_water_pumps['water_quality'])\n",
        "dataset_water_pumps['quality_group'] = le.fit_transform(dataset_water_pumps['quality_group'])\n",
        "dataset_water_pumps['quantity'] = le.fit_transform(dataset_water_pumps['quantity'])\n",
        "dataset_water_pumps['quantity_group'] = le.fit_transform(dataset_water_pumps['quantity_group'])\n",
        "dataset_water_pumps['source'] = le.fit_transform(dataset_water_pumps['source'])\n",
        "dataset_water_pumps['source_type'] = le.fit_transform(dataset_water_pumps['source_type'])\n",
        "dataset_water_pumps['source_class'] = le.fit_transform(dataset_water_pumps['source_class'])\n",
        "dataset_water_pumps['waterpoint_type'] = le.fit_transform(dataset_water_pumps['waterpoint_type'])\n",
        "dataset_water_pumps['waterpoint_type_group'] = le.fit_transform(dataset_water_pumps['waterpoint_type_group'])\n",
        "dataset_water_pumps['status_group'] = le.fit_transform(dataset_water_pumps['status_group'])\n",
        "\n",
        "\"\"\"\n",
        "Deletes dataset lines which contains missing values (NaN) and splitting features and labels\n",
        "\"\"\"\n",
        "dataset_water_pumps = dataset_water_pumps.dropna()\n",
        "y_water_pumps = dataset_water_pumps.pop('status_group')\n",
        "X_water_pumps = dataset_water_pumps"
      ]
    },
    {
      "cell_type": "code",
      "execution_count": null,
      "metadata": {
        "colab": {
          "base_uri": "https://localhost:8080/"
        },
        "id": "6qSFhJyg-xYb",
        "outputId": "18f53f65-f9bc-46d4-957c-f660d1ef5782"
      },
      "outputs": [
        {
          "name": "stdout",
          "output_type": "stream",
          "text": [
            "\n",
            "KNN CLASSIFIER :\n",
            "\n",
            "Accuracy of the model (with training data) : 0.7609187109187109\n",
            "Accuracy : 0.7426775253607658\n",
            "Balanced accuracy : 0.5703772521417362\n",
            "Confusion matrix : [[7199  111  684]\n",
            " [ 688  225  187]\n",
            " [1876   56 2972]]\n",
            "Precision : 0.6949031829522947\n",
            "Recall : 0.5703772521417362\n",
            "\n",
            "SVC CLASSIFIER :\n",
            "\n",
            "Accuracy of the model (with training data) : 0.6375180375180375\n",
            "Accuracy : 0.634804972138877\n",
            "Balanced accuracy : 0.41521960189554896\n",
            "Confusion matrix : [[7185    0  809]\n",
            " [ 982    0  118]\n",
            " [3203    0 1701]]\n",
            "Precision : 0.4263954651148782\n",
            "Recall : 0.41521960189554896\n",
            "\n",
            "GNB CLASSIFIER :\n",
            "\n",
            "Accuracy of the model (with training data) : 0.5441077441077441\n",
            "Accuracy : 0.5292184597799686\n",
            "Balanced accuracy : 0.50839902406908\n",
            "Confusion matrix : [[4306 1947 1741]\n",
            " [ 406  502  192]\n",
            " [1544  760 2600]]\n",
            "Precision : 0.47276861512353857\n",
            "Recall : 0.50839902406908\n",
            "\n",
            "LR CLASSIFIER :\n",
            "\n",
            "Accuracy of the model (with training data) : 0.6404521404521405\n",
            "Accuracy : 0.6362337476782397\n",
            "Balanced accuracy : 0.43035731257388116\n",
            "Confusion matrix : [[6759    4 1231]\n",
            " [ 941   11  148]\n",
            " [2765    3 2136]]\n",
            "Precision : 0.6215532176630575\n",
            "Recall : 0.43035731257388116\n"
          ]
        }
      ],
      "source": [
        "\"\"\"\n",
        "Train/test split and removal of outliers + model training and testing \n",
        "\"\"\"\n",
        "X_train_wp, X_test_wp, y_train_wp, y_test_wp = train_test_split(X_water_pumps, y_water_pumps, test_size=0.3, random_state=42)\n",
        "\n",
        "IF = IsolationForest(random_state=42)\n",
        "IF.fit(X_train_wp)\n",
        "y_pred = IF.predict(X_test_wp)\n",
        "X_test_wp = X_test_wp[y_pred != -1]\n",
        "y_test_wp = y_test_wp[y_pred != -1]\n",
        "\n",
        "scaler = StandardScaler().fit(X_train_wp)\n",
        "X_train_wp = scaler.transform(X_train_wp)\n",
        "X_test_wp = scaler.transform(X_test_wp)\n",
        "\n",
        "\"\"\"\n",
        "KNN Classifier for water pumps\n",
        "\"\"\"\n",
        "print(\"\\nKNN CLASSIFIER :\\n\")\n",
        "KNNmodel = getKNeighborsClassifier(X_train_wp, y_train_wp)\n",
        "KNN = evaluateModel(KNNmodel, X_test_wp, y_test_wp, False)\n",
        "#printResults(KNN, 0, 15)\n",
        "\n",
        "\"\"\"\n",
        "SVC Classifier for water pumps\n",
        "\"\"\"\n",
        "print(\"\\nSVC CLASSIFIER :\\n\")\n",
        "X_train_subset = X_train_wp[:int(X_train_wp.shape[0]*0.5),:]\n",
        "y_train_subset = y_train_wp[:int(y_train_wp.shape[0]*0.5)]\n",
        "SVCmodel = getSVClassifier(X_train_subset, y_train_subset)\n",
        "SVC = evaluateModel(SVCmodel, X_test_wp, y_test_wp, False)\n",
        "#printResults(SVC, 0, 15)\n",
        "\n",
        "\"\"\"\n",
        "GNB Classifier for water pumps\n",
        "\"\"\"\n",
        "print(\"\\nGNB CLASSIFIER :\\n\")\n",
        "GNBmodel = getGaussianNBClassifier(X_train_wp, y_train_wp)\n",
        "GNB = evaluateModel(GNBmodel, X_test_wp, y_test_wp, False)\n",
        "#printResults(GNB, 0, 15)\n",
        "\n",
        "\"\"\"\n",
        "LR Classifier for water pumps\n",
        "\"\"\"\n",
        "print(\"\\nLR CLASSIFIER :\\n\")\n",
        "LRmodel = getLogisticRegressionClassifier(X_train_wp, y_train_wp)\n",
        "LR = evaluateModel(LRmodel, X_test_wp, y_test_wp, False)\n",
        "#printResults(LR, 0, 15)"
      ]
    },
    {
      "cell_type": "code",
      "execution_count": null,
      "metadata": {
        "colab": {
          "base_uri": "https://localhost:8080/"
        },
        "id": "26T-5F2iY_d_",
        "outputId": "ff3c4980-fdbd-46d6-9adf-c549f7bdb3cb"
      },
      "outputs": [
        {
          "name": "stdout",
          "output_type": "stream",
          "text": [
            "Accuracy : [0.75045455 0.74787879 0.7470202 ]\n",
            "Mean Accuracy : 0.7484511784511785\n",
            "Balanced accuracy : [0.60005258 0.60452316 0.60178515]\n",
            "Mean Balanced accuracy : 0.6021202964523646\n",
            "Precision : [0.75045455 0.74787879 0.7470202 ]\n",
            "Mean Precision : 0.7484511784511785\n",
            "Recall : [0.75045455 0.74787879 0.7470202 ]\n",
            "Mean Recall : 0.7484511784511785\n"
          ]
        }
      ],
      "source": [
        "\"\"\"\n",
        "KNN Classifier with kfolds for water pumps\n",
        "\"\"\"\n",
        "kf = KFold(n_splits=3, shuffle=True, random_state=42)\n",
        "pipe = Pipeline([\n",
        "    ('scaler', StandardScaler()),\n",
        "    ('classifier', KNeighborsClassifier())\n",
        "])\n",
        "scoring = ['accuracy', 'balanced_accuracy', 'precision_micro', 'recall_micro']\n",
        "scores = cross_validate(pipe, X=X_water_pumps, y=y_water_pumps, cv=kf, scoring=scoring, return_train_score=True)\n",
        "print(\"Accuracy :\", scores['test_accuracy'])\n",
        "print(\"Mean Accuracy :\", scores['test_accuracy'].mean())\n",
        "print(\"Balanced accuracy :\", scores['test_balanced_accuracy'])\n",
        "print(\"Mean Balanced accuracy :\", scores['test_balanced_accuracy'].mean())\n",
        "print(\"Precision :\", scores['test_precision_micro'])\n",
        "print(\"Mean Precision :\", scores['test_precision_micro'].mean())\n",
        "print(\"Recall :\", scores['test_recall_micro'])\n",
        "print(\"Mean Recall :\", scores['test_recall_micro'].mean())"
      ]
    },
    {
      "cell_type": "code",
      "execution_count": null,
      "metadata": {
        "colab": {
          "base_uri": "https://localhost:8080/"
        },
        "id": "FJYqju6OuiOw",
        "outputId": "04bb36ad-1cb0-4618-dbeb-0869055cfc73"
      },
      "outputs": [
        {
          "name": "stdout",
          "output_type": "stream",
          "text": [
            "Accuracy : [0.63949495 0.64515152 0.63818182]\n",
            "Mean Accuracy : 0.6409427609427609\n",
            "Balanced accuracy : [0.4316604  0.43721806 0.43332878]\n",
            "Mean Balanced accuracy : 0.43406907826509467\n",
            "Precision : [0.63949495 0.64515152 0.63818182]\n",
            "Mean Precision : 0.6409427609427609\n",
            "Recall : [0.63949495 0.64515152 0.63818182]\n",
            "Mean Recall : 0.6409427609427609\n"
          ]
        }
      ],
      "source": [
        "\"\"\"\n",
        "SVC Classifier with kfolds for water pumps\n",
        "\"\"\"\n",
        "kf = KFold(n_splits=3, shuffle=True, random_state=42)\n",
        "pipe = Pipeline([\n",
        "    ('scaler', StandardScaler()),\n",
        "    ('classifier', svm.SVC(kernel='linear'))\n",
        "])\n",
        "scoring = ['accuracy', 'balanced_accuracy', 'precision_micro', 'recall_micro']\n",
        "random_sample = random.sample(range(X_water_pumps.shape[0]), int(X_water_pumps.shape[0]*0.5))\n",
        "X_subset = X_water_pumps.iloc[random_sample]\n",
        "y_subset = y_water_pumps.iloc[random_sample]\n",
        "scores = cross_validate(pipe, X=X_subset, y=y_subset, cv=kf, scoring=scoring, return_train_score=True)\n",
        "print(\"Accuracy :\", scores['test_accuracy'])\n",
        "print(\"Mean Accuracy :\", scores['test_accuracy'].mean())\n",
        "print(\"Balanced accuracy :\", scores['test_balanced_accuracy'])\n",
        "print(\"Mean Balanced accuracy :\", scores['test_balanced_accuracy'].mean())\n",
        "print(\"Precision :\", scores['test_precision_micro'])\n",
        "print(\"Mean Precision :\", scores['test_precision_micro'].mean())\n",
        "print(\"Recall :\", scores['test_recall_micro'])\n",
        "print(\"Mean Recall :\", scores['test_recall_micro'].mean())"
      ]
    },
    {
      "cell_type": "code",
      "execution_count": null,
      "metadata": {
        "colab": {
          "base_uri": "https://localhost:8080/"
        },
        "id": "ZRmYkXjVwBDc",
        "outputId": "b5ff2edc-cd5a-46ca-8f72-3fcbe97af3a6"
      },
      "outputs": [
        {
          "name": "stdout",
          "output_type": "stream",
          "text": [
            "Accuracy : [0.5410101  0.55737374 0.42641414]\n",
            "Mean Accuracy : 0.5082659932659933\n",
            "Balanced accuracy : [0.51972741 0.5166385  0.50244302]\n",
            "Mean Balanced accuracy : 0.5129363107406023\n",
            "Precision : [0.5410101  0.55737374 0.42641414]\n",
            "Mean Precision : 0.5082659932659933\n",
            "Recall : [0.5410101  0.55737374 0.42641414]\n",
            "Mean Recall : 0.5082659932659933\n"
          ]
        }
      ],
      "source": [
        "\"\"\"\n",
        "GNB Classifier with kfolds for water pumps\n",
        "\"\"\"\n",
        "kf = KFold(n_splits=3, shuffle=True, random_state=42)\n",
        "pipe = Pipeline([\n",
        "    ('scaler', StandardScaler()),\n",
        "    ('classifier', GaussianNB())\n",
        "])\n",
        "scoring = ['accuracy', 'balanced_accuracy', 'precision_micro', 'recall_micro']\n",
        "scores = cross_validate(pipe, X=X_water_pumps, y=y_water_pumps, cv=kf, scoring=scoring, return_train_score=True)\n",
        "print(\"Accuracy :\", scores['test_accuracy'])\n",
        "print(\"Mean Accuracy :\", scores['test_accuracy'].mean())\n",
        "print(\"Balanced accuracy :\", scores['test_balanced_accuracy'])\n",
        "print(\"Mean Balanced accuracy :\", scores['test_balanced_accuracy'].mean())\n",
        "print(\"Precision :\", scores['test_precision_micro'])\n",
        "print(\"Mean Precision :\", scores['test_precision_micro'].mean())\n",
        "print(\"Recall :\", scores['test_recall_micro'])\n",
        "print(\"Mean Recall :\", scores['test_recall_micro'].mean())"
      ]
    },
    {
      "cell_type": "code",
      "execution_count": null,
      "metadata": {
        "colab": {
          "base_uri": "https://localhost:8080/"
        },
        "id": "SoK70AJ3wxWp",
        "outputId": "d4b8c809-86e5-4868-da2c-9222b01eb054"
      },
      "outputs": [
        {
          "name": "stdout",
          "output_type": "stream",
          "text": [
            "Accuracy : [0.64494949 0.64035354 0.63893939]\n",
            "Mean Accuracy : 0.6414141414141413\n",
            "Balanced accuracy : [0.44710777 0.44570636 0.44404247]\n",
            "Mean Balanced accuracy : 0.4456188681784871\n",
            "Precision : [0.64494949 0.64035354 0.63893939]\n",
            "Mean Precision : 0.6414141414141413\n",
            "Recall : [0.64494949 0.64035354 0.63893939]\n",
            "Mean Recall : 0.6414141414141413\n"
          ]
        }
      ],
      "source": [
        "\"\"\"\n",
        "LR Classifier with kfolds for water pumps\n",
        "\"\"\"\n",
        "kf = KFold(n_splits=3, shuffle=True, random_state=42)\n",
        "pipe = Pipeline([\n",
        "    ('scaler', StandardScaler()),\n",
        "    ('classifier', LogisticRegression())\n",
        "])\n",
        "scoring = ['accuracy', 'balanced_accuracy', 'precision_micro', 'recall_micro']\n",
        "scores = cross_validate(pipe, X=X_water_pumps, y=y_water_pumps, cv=kf, scoring=scoring, return_train_score=True)\n",
        "print(\"Accuracy :\", scores['test_accuracy'])\n",
        "print(\"Mean Accuracy :\", scores['test_accuracy'].mean())\n",
        "print(\"Balanced accuracy :\", scores['test_balanced_accuracy'])\n",
        "print(\"Mean Balanced accuracy :\", scores['test_balanced_accuracy'].mean())\n",
        "print(\"Precision :\", scores['test_precision_micro'])\n",
        "print(\"Mean Precision :\", scores['test_precision_micro'].mean())\n",
        "print(\"Recall :\", scores['test_recall_micro'])\n",
        "print(\"Mean Recall :\", scores['test_recall_micro'].mean())"
      ]
    },
    {
      "cell_type": "code",
      "execution_count": null,
      "metadata": {
        "colab": {
          "base_uri": "https://localhost:8080/"
        },
        "id": "Rhpt31p2xClJ",
        "outputId": "41eac44d-cfdc-49bc-d6c6-b9b2023efe1f"
      },
      "outputs": [
        {
          "name": "stdout",
          "output_type": "stream",
          "text": [
            "Accuracy : [0.75191919 0.74267677 0.74676768]\n",
            "Mean Accuracy : 0.7471212121212121\n",
            "Balanced accuracy : [0.59967273 0.60327531 0.60239759]\n",
            "Mean Balanced accuracy : 0.6017818731613791\n",
            "Precision : [0.75191919 0.74267677 0.74676768]\n",
            "Mean Precision : 0.7471212121212121\n",
            "Recall : [0.75191919 0.74267677 0.74676768]\n",
            "Mean Recall : 0.7471212121212121\n"
          ]
        }
      ],
      "source": [
        "\"\"\"\n",
        "KNN Classifier with Stratified kfolds for water pumps\n",
        "\"\"\"\n",
        "skf = StratifiedKFold(n_splits=3, shuffle=True, random_state=42)\n",
        "pipe = Pipeline([\n",
        "    ('scaler', StandardScaler()),\n",
        "    ('classifier', KNeighborsClassifier())\n",
        "])\n",
        "scoring = ['accuracy', 'balanced_accuracy', 'precision_micro', 'recall_micro']\n",
        "scores = cross_validate(pipe, X=X_water_pumps, y=y_water_pumps, cv=skf, scoring=scoring, return_train_score=True)\n",
        "print(\"Accuracy :\", scores['test_accuracy'])\n",
        "print(\"Mean Accuracy :\", scores['test_accuracy'].mean())\n",
        "print(\"Balanced accuracy :\", scores['test_balanced_accuracy'])\n",
        "print(\"Mean Balanced accuracy :\", scores['test_balanced_accuracy'].mean())\n",
        "print(\"Precision :\", scores['test_precision_micro'])\n",
        "print(\"Mean Precision :\", scores['test_precision_micro'].mean())\n",
        "print(\"Recall :\", scores['test_recall_micro'])\n",
        "print(\"Mean Recall :\", scores['test_recall_micro'].mean())"
      ]
    },
    {
      "cell_type": "code",
      "execution_count": null,
      "metadata": {
        "colab": {
          "base_uri": "https://localhost:8080/"
        },
        "id": "3CJZ2hjVydGM",
        "outputId": "23d80150-cfbf-4156-8915-130ca454060c"
      },
      "outputs": [
        {
          "name": "stdout",
          "output_type": "stream",
          "text": [
            "Accuracy : [0.64545455 0.63656566 0.63919192]\n",
            "Mean Accuracy : 0.6404040404040404\n",
            "Balanced accuracy : [0.44025904 0.43347171 0.43516542]\n",
            "Mean Balanced accuracy : 0.4362987232345117\n",
            "Precision : [0.64545455 0.63656566 0.63919192]\n",
            "Mean Precision : 0.6404040404040404\n",
            "Recall : [0.64545455 0.63656566 0.63919192]\n",
            "Mean Recall : 0.6404040404040404\n"
          ]
        }
      ],
      "source": [
        "\"\"\"\n",
        "SVC Classifier with Stratified kfolds for water pumps\n",
        "\"\"\"\n",
        "skf = StratifiedKFold(n_splits=3, shuffle=True, random_state=42)\n",
        "pipe = Pipeline([\n",
        "    ('scaler', StandardScaler()),\n",
        "    ('classifier', svm.SVC(kernel='linear'))\n",
        "])\n",
        "scoring = ['accuracy', 'balanced_accuracy', 'precision_micro', 'recall_micro']\n",
        "random_sample = random.sample(range(X_water_pumps.shape[0]), int(X_water_pumps.shape[0]*0.5))\n",
        "X_subset = X_water_pumps.iloc[random_sample]\n",
        "y_subset = y_water_pumps.iloc[random_sample]\n",
        "scores = cross_validate(pipe, X=X_subset, y=y_subset, cv=skf, scoring=scoring, return_train_score=True)\n",
        "print(\"Accuracy :\", scores['test_accuracy'])\n",
        "print(\"Mean Accuracy :\", scores['test_accuracy'].mean())\n",
        "print(\"Balanced accuracy :\", scores['test_balanced_accuracy'])\n",
        "print(\"Mean Balanced accuracy :\", scores['test_balanced_accuracy'].mean())\n",
        "print(\"Precision :\", scores['test_precision_micro'])\n",
        "print(\"Mean Precision :\", scores['test_precision_micro'].mean())\n",
        "print(\"Recall :\", scores['test_recall_micro'])\n",
        "print(\"Mean Recall :\", scores['test_recall_micro'].mean())"
      ]
    },
    {
      "cell_type": "code",
      "execution_count": null,
      "metadata": {
        "colab": {
          "base_uri": "https://localhost:8080/"
        },
        "id": "SP3rmLNFyrhQ",
        "outputId": "2a0bdc06-5065-433d-e6ec-761f771ae154"
      },
      "outputs": [
        {
          "name": "stdout",
          "output_type": "stream",
          "text": [
            "Accuracy : [0.535      0.45964646 0.53888889]\n",
            "Mean Accuracy : 0.5111784511784512\n",
            "Balanced accuracy : [0.52057768 0.50503581 0.51724262]\n",
            "Mean Balanced accuracy : 0.51428536847884\n",
            "Precision : [0.535      0.45964646 0.53888889]\n",
            "Mean Precision : 0.5111784511784512\n",
            "Recall : [0.535      0.45964646 0.53888889]\n",
            "Mean Recall : 0.5111784511784512\n"
          ]
        }
      ],
      "source": [
        "\"\"\"\n",
        "GNB Classifier with Stratified kfolds for water pumps \n",
        "\"\"\"\n",
        "skf = StratifiedKFold(n_splits=3, shuffle=True, random_state=42)\n",
        "pipe = Pipeline([\n",
        "    ('scaler', StandardScaler()),\n",
        "    ('classifier', GaussianNB())\n",
        "])\n",
        "scoring = ['accuracy', 'balanced_accuracy', 'precision_micro', 'recall_micro']\n",
        "scores = cross_validate(pipe, X=X_water_pumps, y=y_water_pumps, cv=skf, scoring=scoring, return_train_score=True)\n",
        "print(\"Accuracy :\", scores['test_accuracy'])\n",
        "print(\"Mean Accuracy :\", scores['test_accuracy'].mean())\n",
        "print(\"Balanced accuracy :\", scores['test_balanced_accuracy'])\n",
        "print(\"Mean Balanced accuracy :\", scores['test_balanced_accuracy'].mean())\n",
        "print(\"Precision :\", scores['test_precision_micro'])\n",
        "print(\"Mean Precision :\", scores['test_precision_micro'].mean())\n",
        "print(\"Recall :\", scores['test_recall_micro'])\n",
        "print(\"Mean Recall :\", scores['test_recall_micro'].mean())"
      ]
    },
    {
      "cell_type": "code",
      "execution_count": null,
      "metadata": {
        "colab": {
          "base_uri": "https://localhost:8080/"
        },
        "id": "KaqEL_-sy62D",
        "outputId": "3b83cc86-2df1-4ee9-9c50-4228d9ce3cf7"
      },
      "outputs": [
        {
          "name": "stdout",
          "output_type": "stream",
          "text": [
            "Accuracy : [0.64530303 0.64141414 0.6379798 ]\n",
            "Mean Accuracy : 0.6415656565656566\n",
            "Balanced accuracy : [0.44779315 0.44715198 0.44238003]\n",
            "Mean Balanced accuracy : 0.445775055474539\n",
            "Precision : [0.64530303 0.64141414 0.6379798 ]\n",
            "Mean Precision : 0.6415656565656566\n",
            "Recall : [0.64530303 0.64141414 0.6379798 ]\n",
            "Mean Recall : 0.6415656565656566\n"
          ]
        }
      ],
      "source": [
        "\"\"\"\n",
        "LR Classifier with Stratified kfolds for water pumps\n",
        "\"\"\"\n",
        "skf = StratifiedKFold(n_splits=3, shuffle=True, random_state=42)\n",
        "pipe = Pipeline([\n",
        "    ('scaler', StandardScaler()),\n",
        "    ('classifier', LogisticRegression())\n",
        "])\n",
        "scoring = ['accuracy', 'balanced_accuracy', 'precision_micro', 'recall_micro']\n",
        "scores = cross_validate(pipe, X=X_water_pumps, y=y_water_pumps, cv=skf, scoring=scoring, return_train_score=True)\n",
        "print(\"Accuracy :\", scores['test_accuracy'])\n",
        "print(\"Mean Accuracy :\", scores['test_accuracy'].mean())\n",
        "print(\"Balanced accuracy :\", scores['test_balanced_accuracy'])\n",
        "print(\"Mean Balanced accuracy :\", scores['test_balanced_accuracy'].mean())\n",
        "print(\"Precision :\", scores['test_precision_micro'])\n",
        "print(\"Mean Precision :\", scores['test_precision_micro'].mean())\n",
        "print(\"Recall :\", scores['test_recall_micro'])\n",
        "print(\"Mean Recall :\", scores['test_recall_micro'].mean())"
      ]
    }
  ],
  "metadata": {
    "accelerator": "GPU",
    "colab": {
      "provenance": []
    },
    "gpuClass": "standard",
    "kernelspec": {
      "display_name": "Python 3",
      "name": "python3"
    },
    "language_info": {
      "name": "python"
    }
  },
  "nbformat": 4,
  "nbformat_minor": 0
}